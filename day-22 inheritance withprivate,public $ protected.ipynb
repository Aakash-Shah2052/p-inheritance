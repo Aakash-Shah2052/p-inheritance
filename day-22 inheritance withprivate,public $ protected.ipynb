{
  "nbformat": 4,
  "nbformat_minor": 0,
  "metadata": {
    "kernelspec": {
      "display_name": "Python 3",
      "language": "python",
      "name": "python3"
    },
    "colab": {
      "name": "Untitled3.ipynb",
      "provenance": []
    }
  },
  "cells": [
    {
      "cell_type": "code",
      "metadata": {
        "id": "316apft72qsN"
      },
      "source": [
        "# inheritance"
      ],
      "execution_count": null,
      "outputs": []
    },
    {
      "cell_type": "code",
      "metadata": {
        "id": "xC8jc1TK2qsR",
        "outputId": "aaf130d3-525b-408c-802d-e894703fbeb8"
      },
      "source": [
        "class A:\n",
        "    print(\"This is class A\")\n",
        "class B(A):\n",
        "    print(\"This is class B\")\n",
        "    \n",
        "\n",
        "obj2 = B()"
      ],
      "execution_count": null,
      "outputs": [
        {
          "output_type": "stream",
          "text": [
            "This is class A\n",
            "This is class B\n"
          ],
          "name": "stdout"
        }
      ]
    },
    {
      "cell_type": "code",
      "metadata": {
        "id": "NC4cwl4P2qsT",
        "outputId": "8a31a8bd-d1a7-4824-8582-7fd77195731b"
      },
      "source": [
        "class A:\n",
        "    def __init__(self,name,age):\n",
        "        self.name = name\n",
        "        self.age = age\n",
        "        \n",
        "    def a(self):\n",
        "        print(self.name,self.age)\n",
        "        \n",
        "class B(A):\n",
        "    def b(self):\n",
        "        print(self.name,self.age)\n",
        "    \n",
        "# obj = A(\"Ram\",45)\n",
        "obj1 = B(\"Shyam\",23)\n",
        "obj1.b()\n",
        "obj1.a()\n",
        "# print(obj.name)\n",
        "# print(obj.age)"
      ],
      "execution_count": null,
      "outputs": [
        {
          "output_type": "stream",
          "text": [
            "Shyam 23\n",
            "Shyam 23\n"
          ],
          "name": "stdout"
        }
      ]
    },
    {
      "cell_type": "code",
      "metadata": {
        "id": "zvB7U6fu2qsU",
        "outputId": "b3383af6-c8df-41ff-b09b-8e33ef0b4f5c"
      },
      "source": [
        "class Cal:\n",
        "    def __init__(self):\n",
        "        self.l = int(input(\"Enter l = \"))\n",
        "        self.b = int(input(\"Enter b = \"))\n",
        "        self.h = int(input(\"Enter h = \"))\n",
        "class Volume(Cal):\n",
        "    def volume(self):\n",
        "        v = self.l*self.b*self.h\n",
        "        print(v)\n",
        "    \n",
        "# obj = Cal()\n",
        "obj1 = Volume()\n",
        "obj1.volume()"
      ],
      "execution_count": null,
      "outputs": [
        {
          "output_type": "stream",
          "text": [
            "Enter l = 10\n",
            "Enter b = 3\n",
            "Enter h = 4\n",
            "120\n"
          ],
          "name": "stdout"
        }
      ]
    },
    {
      "cell_type": "code",
      "metadata": {
        "id": "D5JKs_cY2qsV",
        "outputId": "05e4c474-9679-419b-d448-a243831d8109"
      },
      "source": [
        "class Cal:\n",
        "    def __init__(self):\n",
        "        self.l = int(input(\"Enter l = \"))\n",
        "        self.b = int(input(\"Enter b = \"))\n",
        "\n",
        "    def area(self):\n",
        "        a = self.l*self.b\n",
        "        return a\n",
        "    \n",
        "class Volume(Cal):\n",
        "    def __init__(self):\n",
        "        self.h = int(input(\"Enter h = \"))\n",
        "        Cal.__init__(self)\n",
        "    def volume(self):\n",
        "        v = self.l*self.b*self.h\n",
        "        print(v)\n",
        "    \n",
        "# obj = Cal()\n",
        "obj1 = Volume()\n",
        "obj1.volume()"
      ],
      "execution_count": null,
      "outputs": [
        {
          "output_type": "stream",
          "text": [
            "Enter h = 10\n",
            "Enter l = 20\n",
            "Enter b = 30\n",
            "6000\n"
          ],
          "name": "stdout"
        }
      ]
    },
    {
      "cell_type": "code",
      "metadata": {
        "id": "6YAFwf7r2qsW",
        "outputId": "fa5b5330-01c3-4d53-d575-66f7f9467b22"
      },
      "source": [
        "class Hr:\n",
        "    def __init__(self):\n",
        "        self.name = input(\"Enter name = \")\n",
        "        self.post = input(\"Enter post = \")\n",
        "\n",
        "    def hr(self):\n",
        "        a = f\"Hello {self.name} your post is {self.post}\"\n",
        "        return a\n",
        "    \n",
        "class Office(Hr):\n",
        "    def __init__(self):\n",
        "        self.salary = int(input(\"Enter salary = \"))\n",
        "        Hr.__init__(self)\n",
        "    def office(self):\n",
        "        v = f\"Hello {self.name} your post is {self.post} and salary is {self.salary}\"\n",
        "        print(v)\n",
        "    \n",
        "# obj = Cal()\n",
        "obj1 = Office()\n",
        "obj1.office()\n",
        "obj1.hr()\n",
        "print(obj1.name,obj1.post,obj1.salary)"
      ],
      "execution_count": null,
      "outputs": [
        {
          "output_type": "stream",
          "text": [
            "Enter salary = 1000\n",
            "Enter name = Ram\n",
            "Enter post = CEO\n",
            "Hello Ram your post is CEO and salary is 1000\n",
            "Ram CEO 1000\n"
          ],
          "name": "stdout"
        }
      ]
    },
    {
      "cell_type": "code",
      "metadata": {
        "id": "RjuWRs2a2qsX",
        "outputId": "ad4a98e0-b46e-4786-a5c9-9df062bcd464"
      },
      "source": [
        "class Hr:\n",
        "    def __init__(self):\n",
        "        self._name = input(\"Enter name = \") #protected\n",
        "        self.__post = input(\"Enter post = \")\n",
        "\n",
        "    def hr(self):\n",
        "        a = f\"Hello {self._name} your post is {self.__post}\"\n",
        "        return a\n",
        "    \n",
        "class Office(Hr):\n",
        "    def __init__(self):\n",
        "        self.salary = int(input(\"Enter salary = \"))\n",
        "        Hr.__init__(self)\n",
        "    def office(self):\n",
        "        v = f\"Hello {self._name} your salary is {self.salary}\"\n",
        "        print(v)\n",
        "    \n",
        "# obj = Cal()\n",
        "obj1 = Office()\n",
        "obj1.office()\n",
        "print(obj1.hr())\n",
        "print(obj1.salary)"
      ],
      "execution_count": null,
      "outputs": [
        {
          "output_type": "stream",
          "text": [
            "Enter salary = 10000\n",
            "Enter name = Ram\n",
            "Enter post = CEO\n",
            "Hello Ram your salary is 10000\n",
            "Hello Ram your post is CEO\n",
            "10000\n"
          ],
          "name": "stdout"
        }
      ]
    },
    {
      "cell_type": "code",
      "metadata": {
        "id": "VZ_3gX4M2qsY"
      },
      "source": [
        "class Hr:\n",
        "    def __init__(self):\n",
        "        self._name = input(\"Enter name = \") #protected\n",
        "        self.__post = input(\"Enter post = \")\n",
        "\n",
        "    def hr(self):\n",
        "        a = f\"Hello {self._name} your post is {self.__post}\"\n",
        "        return a\n",
        "    \n",
        "class Office(Hr):\n",
        "    def __init__(self):\n",
        "        self.salary = int(input(\"Enter salary = \"))\n",
        "        Hr.__init__(self)\n",
        "    def office(self):\n",
        "        v = f\"Hello {self._name} your salary is {self.salary}\"\n",
        "        print(v)\n",
        "    \n",
        "# obj = Cal()\n",
        "obj1 = Office()\n",
        "obj1.office()\n",
        "print(obj1.hr())\n",
        "print(obj1.salary)"
      ],
      "execution_count": null,
      "outputs": []
    },
    {
      "cell_type": "code",
      "metadata": {
        "id": "-oC8_Zmf2qsY",
        "outputId": "64ea5658-b206-4938-b0ae-ed3eb3d10e49"
      },
      "source": [
        "# we canot acees private attributes according to the law of OOP\n",
        "# but we can excess it by using technique\n",
        "#objectname._classname__variable name        ********vvvvvvimportant for interview\n",
        "# private attributes\n",
        "class Info:\n",
        "    def __init__(self,name,age,add):\n",
        "        self.__name = name\n",
        "        self.__age = age\n",
        "        self.__add = add\n",
        "    def info(self):\n",
        "        print(self.__name,self.__age,self.__add)\n",
        "        \n",
        "obj = Info(\"Ram\",67,\"Kathmandu\")\n",
        "obj.info()\n",
        "print(obj._Info__name,obj._Info__age,obj._Info__add)"
      ],
      "execution_count": null,
      "outputs": [
        {
          "output_type": "stream",
          "text": [
            "Ram 67 Kathmandu\n",
            "Ram 67 Kathmandu\n"
          ],
          "name": "stdout"
        }
      ]
    },
    {
      "cell_type": "code",
      "metadata": {
        "id": "YjgC1M7J2qsZ"
      },
      "source": [
        "class Hr:\n",
        "    def __init__(self):\n",
        "        self._name = input(\"Enter name = \") #protected\n",
        "        self.__post = input(\"Enter post = \")\n",
        "\n",
        "    def hr(self):\n",
        "        a = f\"Hello {self._name} your post is {self.__post}\"\n",
        "        return a\n",
        "    \n",
        "class Office(Hr):\n",
        "    def __init__(self):\n",
        "        self.salary = int(input(\"Enter salary = \"))\n",
        "        Hr.__init__(self)\n",
        "    def office(self):\n",
        "        v = f\"Hello {self._name} your post is {self._Hr__post} your salary is {self.salary}\"\n",
        "        print(v)\n",
        "    \n",
        "# obj = Cal()\n",
        "obj1 = Office()\n",
        "obj1.office()\n",
        "print(obj1.hr())\n",
        "print(obj1.salary)"
      ],
      "execution_count": null,
      "outputs": []
    },
    {
      "cell_type": "code",
      "metadata": {
        "id": "p4du-m9b2qsZ",
        "outputId": "675c6c77-30f9-4be2-9611-65ec88ed4481"
      },
      "source": [
        "class Hr:\n",
        "    def __init__(self):\n",
        "        self._name = input(\"Enter name = \") #protected\n",
        "        self.__post = input(\"Enter post = \")\n",
        "\n",
        "    def hr(self):\n",
        "        a = f\"Hello {self._name} your post is {self.__post}\"\n",
        "        return a\n",
        "    \n",
        "class Office(Hr):\n",
        "    def __init__(self):\n",
        "        self.salary = int(input(\"Enter salary = \"))\n",
        "        Hr.__init__(self)\n",
        "    def office(self):\n",
        "        v = f\"{super().hr()} your salary is {self.salary}\"\n",
        "        print(v)\n",
        "        \n",
        "    \n",
        "# obj = Cal()\n",
        "obj1 = Office()\n",
        "obj1.office()\n",
        "print(obj1.hr())\n",
        "print(obj1.salary)"
      ],
      "execution_count": null,
      "outputs": [
        {
          "output_type": "stream",
          "text": [
            "Enter salary = 10000\n",
            "Enter name = Ram\n",
            "Enter post = CEO\n",
            "Hello Ram your post is CEO your salary is 10000\n",
            "Hello Ram your post is CEO\n",
            "10000\n"
          ],
          "name": "stdout"
        }
      ]
    },
    {
      "cell_type": "code",
      "metadata": {
        "id": "mjZytOxZ2qsa",
        "outputId": "2a15b5cf-56e7-4f98-8f7f-916bfc5864cb"
      },
      "source": [
        "class Hr:\n",
        "    def __init__(self):\n",
        "        self._name = input(\"Enter name = \") #protected\n",
        "        self.__post = input(\"Enter post = \")\n",
        "\n",
        "    def hr(self):\n",
        "        a = f\"Hello {self._name} your post is {self.__post}\"\n",
        "        return a\n",
        "    \n",
        "class Office(Hr):\n",
        "    def __init__(self):\n",
        "        self.salary = int(input(\"Enter salary = \"))\n",
        "        Hr.__init__(self)\n",
        "        \n",
        "    def inhetit_hr(self):\n",
        "        print(super().hr())\n",
        "    def office(self):\n",
        "        v = f\"Hello {self._name} your post is {self._Hr__post} your salary is {self.salary}\"\n",
        "        print(v)\n",
        "\n",
        "# obj = Cal()\n",
        "obj1 = Office()\n",
        "obj1.office()\n",
        "print(obj1.inhetit_hr())\n",
        "print(obj1.salary)"
      ],
      "execution_count": null,
      "outputs": [
        {
          "output_type": "stream",
          "text": [
            "Enter salary = 10000\n",
            "Enter name = ram\n",
            "Enter post = CEO\n",
            "Hello ram your post is CEO your salary is 10000\n",
            "Hello ram your post is CEO\n",
            "None\n",
            "10000\n"
          ],
          "name": "stdout"
        }
      ]
    },
    {
      "cell_type": "code",
      "metadata": {
        "id": "ihtikeJD2qsb"
      },
      "source": [
        ""
      ],
      "execution_count": null,
      "outputs": []
    }
  ]
}